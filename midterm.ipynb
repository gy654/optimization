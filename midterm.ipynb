{
 "cells": [
  {
   "cell_type": "markdown",
   "metadata": {},
   "source": [
    "Program your algorithm from problem 4 and see if you can get it to work. "
   ]
  },
  {
   "cell_type": "markdown",
   "metadata": {},
   "source": [
    "$$F = \\frac{1}{2} \\int_{\\omega} || \\nabla u(x) ||^2 dx = \\frac{1}{2} \\int_{0}^{1} \\int_{0}^{1} [(\\frac{\\partial u}{\\partial x_i})**2 + (\\frac{\\partial u}{\\partial x_2})^2] dx_1dx_2 \\approx \\frac{1}{2} \\sum_{0 \\leq i \\leq m} \\sum_{0 \\leq ij\\leq m} [(u_{i+1, j}-u_{i, j})^2 + (u_{i, j+1} - u_{i, j})^2] $$\n",
    "\n",
    "where $u_{i, j} = u(\\frac{i}{m}, \\frac{j}{m})$"
   ]
  },
  {
   "cell_type": "code",
   "execution_count": 1,
   "metadata": {},
   "outputs": [],
   "source": [
    "import numpy as np"
   ]
  },
  {
   "cell_type": "markdown",
   "metadata": {},
   "source": [
    "# initialize"
   ]
  },
  {
   "cell_type": "code",
   "execution_count": 103,
   "metadata": {},
   "outputs": [
    {
     "name": "stdout",
     "output_type": "stream",
     "text": [
      "3.4288638530403506\n"
     ]
    },
    {
     "data": {
      "text/plain": [
       "array([[ 0.        ,  0.        ,  0.        ,  0.        ,  0.        ],\n",
       "       [ 0.        , -0.22356898,  1.22975314,  1.02266172,  0.        ],\n",
       "       [ 0.        ,  2.25879286, -2.82358706,  0.71049828,  0.        ],\n",
       "       [ 0.        , -0.05556423,  1.65569717,  1.41880431,  0.        ],\n",
       "       [ 0.        ,  0.        ,  0.        ,  0.        ,  0.        ]])"
      ]
     },
     "execution_count": 103,
     "metadata": {},
     "output_type": "execute_result"
    }
   ],
   "source": [
    "\n",
    "# initialize u values for m by m grid\n",
    "\n",
    "def initialize(m):\n",
    "    return np.resize(np.random.random(m*m), (m, m))\n",
    "\n",
    "def cost_fn(U):\n",
    "    m = len(U)\n",
    "    sum = 0\n",
    "    for i in range(m-1):\n",
    "        for j in range(m-1):\n",
    "            sum += (U[i+1, j] - U[i, j])**2 + (U[i, j+1] - U[i, j])**2\n",
    "    return 0.5 * sum\n",
    "\n",
    "def fix_boundary(U):\n",
    "    m = len(U)\n",
    "    new_U = np.zeros((m+2, m+2))\n",
    "    new_U[:, 0] =  np.linspace(0, 1, m+2) **2\n",
    "    new_U[:, -1] = np.linspace(0, 1, m+2) **2\n",
    "    new_U[0, :] = 1- (np.linspace(0, 1, m+2))** 0.5\n",
    "    new_U[-1, :] = 1- np.linspace(0, 1, m+2)** 0.5\n",
    "    new_U[1:-1, 1:-1] = U\n",
    "    return new_U\n",
    "\n",
    "\n",
    "def gradient(U):\n",
    "    m = len(U)\n",
    "    ret = np.zeros_like(U)\n",
    "    for i in range(1, m-1):\n",
    "        for j in range(1, m-1):\n",
    "            grad = 4 *U[i, j] - U[i+1, j] -U[i-1, j] - U[i, j+1] - U[i, j-1]\n",
    "            ret[i, j] = grad\n",
    "    return ret\n",
    "\n",
    "\n",
    "U = initialize(3)\n",
    "U = fix_boundary(U)\n",
    "print(cost_fn(U))\n",
    "ret = gradient(U)\n",
    "ret\n",
    "\n"
   ]
  },
  {
   "cell_type": "code",
   "execution_count": 104,
   "metadata": {},
   "outputs": [],
   "source": [
    "def backTr(alpha, U, direction):\n",
    "    '''\n",
    "    Backtracking algorithm. Modifies the step length until\n",
    "    we've found a descent direction.\n",
    "    '''\n",
    "    beta = 0.8\n",
    "    Fn = cost_fn(U)\n",
    "    U_n = U + alpha * direction\n",
    "    Fn_1 = cost_fn(U)\n",
    "    while Fn < Fn_1:\n",
    "        alpha = beta*alpha\n",
    "        U_n = U + alpha * direction\n",
    "        Fn_1 = cost_fn(U_n)\n",
    "    return alpha"
   ]
  },
  {
   "cell_type": "code",
   "execution_count": 105,
   "metadata": {},
   "outputs": [],
   "source": [
    "maxIter = 10\n",
    "alpha= 1\n",
    "\n",
    "\n",
    "U = initialize(3)\n",
    "U = fix_boundary(U)\n",
    "U_gd_iterates = [U]\n",
    "f_value = [cost_fn(U)]\n",
    "for iter in range(maxIter):\n",
    "    direction = -gradient(U)\n",
    "    alpha = backTr(alpha, U, direction)\n",
    "    U = U + alpha * direction     \n",
    "    U_gd_iterates.append(U)     \n",
    "    f_value.append(cost_fn(U))\n",
    "\n"
   ]
  },
  {
   "cell_type": "code",
   "execution_count": 106,
   "metadata": {},
   "outputs": [
    {
     "data": {
      "text/plain": [
       "[2.783842669206104,\n",
       " 33.58422878115721,\n",
       " 670.6515321008319,\n",
       " 14651.950554426503,\n",
       " 343541.5326658223,\n",
       " 8697927.610628093,\n",
       " 237836949.2975475,\n",
       " 6958905247.050008,\n",
       " 214586302508.02533,\n",
       " 6864815165252.182,\n",
       " 224926072265626.78]"
      ]
     },
     "execution_count": 106,
     "metadata": {},
     "output_type": "execute_result"
    }
   ],
   "source": [
    "f_value"
   ]
  },
  {
   "cell_type": "code",
   "execution_count": 49,
   "metadata": {},
   "outputs": [
    {
     "data": {
      "text/plain": [
       "array([[0.20666256, 0.32501417, 0.56871151],\n",
       "       [0.1178829 , 0.20802945, 0.49737571],\n",
       "       [0.79344842, 0.26926831, 0.06427196]])"
      ]
     },
     "execution_count": 49,
     "metadata": {},
     "output_type": "execute_result"
    }
   ],
   "source": [
    "U"
   ]
  },
  {
   "cell_type": "code",
   "execution_count": 42,
   "metadata": {},
   "outputs": [
    {
     "ename": "ValueError",
     "evalue": "could not broadcast input array from shape (3,3) into shape (2,2)",
     "output_type": "error",
     "traceback": [
      "\u001b[0;31m---------------------------------------------------------------------------\u001b[0m",
      "\u001b[0;31mValueError\u001b[0m                                Traceback (most recent call last)",
      "\u001b[0;32m<ipython-input-42-5efe7e1b77f8>\u001b[0m in \u001b[0;36m<module>\u001b[0;34m\u001b[0m\n\u001b[1;32m      3\u001b[0m \u001b[0mnew_U\u001b[0m\u001b[0;34m[\u001b[0m\u001b[0;34m:\u001b[0m\u001b[0;34m,\u001b[0m \u001b[0;36m0\u001b[0m\u001b[0;34m]\u001b[0m \u001b[0;34m=\u001b[0m  \u001b[0mnp\u001b[0m\u001b[0;34m.\u001b[0m\u001b[0mlinspace\u001b[0m\u001b[0;34m(\u001b[0m\u001b[0;36m0\u001b[0m\u001b[0;34m,\u001b[0m \u001b[0;36m1\u001b[0m\u001b[0;34m,\u001b[0m \u001b[0mm\u001b[0m\u001b[0;34m+\u001b[0m\u001b[0;36m1\u001b[0m\u001b[0;34m)\u001b[0m\u001b[0;34m\u001b[0m\u001b[0;34m\u001b[0m\u001b[0m\n\u001b[1;32m      4\u001b[0m \u001b[0mnew_U\u001b[0m\u001b[0;34m[\u001b[0m\u001b[0;34m:\u001b[0m\u001b[0;34m,\u001b[0m \u001b[0;34m-\u001b[0m\u001b[0;36m1\u001b[0m\u001b[0;34m]\u001b[0m \u001b[0;34m=\u001b[0m \u001b[0mnp\u001b[0m\u001b[0;34m.\u001b[0m\u001b[0mlinspace\u001b[0m\u001b[0;34m(\u001b[0m\u001b[0;36m0\u001b[0m\u001b[0;34m,\u001b[0m \u001b[0;36m1\u001b[0m\u001b[0;34m,\u001b[0m \u001b[0mm\u001b[0m\u001b[0;34m+\u001b[0m\u001b[0;36m1\u001b[0m\u001b[0;34m)\u001b[0m\u001b[0;34m\u001b[0m\u001b[0;34m\u001b[0m\u001b[0m\n\u001b[0;32m----> 5\u001b[0;31m \u001b[0mnew_U\u001b[0m\u001b[0;34m[\u001b[0m\u001b[0;36m1\u001b[0m\u001b[0;34m:\u001b[0m\u001b[0;34m-\u001b[0m\u001b[0;36m1\u001b[0m\u001b[0;34m,\u001b[0m \u001b[0;36m1\u001b[0m\u001b[0;34m:\u001b[0m\u001b[0;34m-\u001b[0m\u001b[0;36m1\u001b[0m\u001b[0;34m]\u001b[0m \u001b[0;34m=\u001b[0m \u001b[0mU\u001b[0m\u001b[0;34m\u001b[0m\u001b[0;34m\u001b[0m\u001b[0m\n\u001b[0m\u001b[1;32m      6\u001b[0m \u001b[0mU\u001b[0m \u001b[0;34m=\u001b[0m \u001b[0mnew_U\u001b[0m\u001b[0;34m\u001b[0m\u001b[0;34m\u001b[0m\u001b[0m\n\u001b[1;32m      7\u001b[0m \u001b[0mprint\u001b[0m\u001b[0;34m(\u001b[0m\u001b[0mU\u001b[0m\u001b[0;34m)\u001b[0m\u001b[0;34m\u001b[0m\u001b[0;34m\u001b[0m\u001b[0m\n",
      "\u001b[0;31mValueError\u001b[0m: could not broadcast input array from shape (3,3) into shape (2,2)"
     ]
    }
   ],
   "source": [
    "\n",
    "new_U[0, :] = np.linspace(0, 1, m+1)\n",
    "new_U[-1, :] = np.linspace(0, 1, m+1)\n",
    "new_U[:, 0] =  np.linspace(0, 1, m+1)\n",
    "new_U[:, -1] = np.linspace(0, 1, m+1)\n",
    "new_U[1:-1, 1:-1] = U\n",
    "U = new_U\n",
    "print(U)"
   ]
  },
  {
   "cell_type": "markdown",
   "metadata": {},
   "source": []
  }
 ],
 "metadata": {
  "interpreter": {
   "hash": "a64033cd0127a17ac0664221886de74866c806bf8ed006cc214a58e367ec7301"
  },
  "kernelspec": {
   "display_name": "Python 3.8.5 ('base')",
   "language": "python",
   "name": "python3"
  },
  "language_info": {
   "codemirror_mode": {
    "name": "ipython",
    "version": 3
   },
   "file_extension": ".py",
   "mimetype": "text/x-python",
   "name": "python",
   "nbconvert_exporter": "python",
   "pygments_lexer": "ipython3",
   "version": "3.8.5"
  },
  "orig_nbformat": 4
 },
 "nbformat": 4,
 "nbformat_minor": 2
}
